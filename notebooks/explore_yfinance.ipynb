{
 "cells": [
  {
   "cell_type": "code",
   "execution_count": null,
   "metadata": {},
   "outputs": [
    {
     "name": "stderr",
     "output_type": "stream",
     "text": [
      "[*********************100%***********************]  20 of 20 completed\n"
     ]
    },
    {
     "name": "stdout",
     "output_type": "stream",
     "text": [
      "✅ Data saved as tech_stocks_full_data.csv\n",
      "Price       Date        Open        High         Low       Close     Volume  \\\n",
      "0     2024-02-01  182.891945  185.834271  182.722962  185.744812   64885400   \n",
      "1     2024-02-02  178.786588  186.212008  178.180228  184.740845  102518000   \n",
      "2     2024-02-05  187.027102  188.120543  184.730891  186.559906   69668800   \n",
      "3     2024-02-06  185.744802  188.180177  185.655343  188.170242   43490800   \n",
      "4     2024-02-07  189.502257  189.909814  187.484373  188.279602   53439000   \n",
      "\n",
      "Price Ticker  \n",
      "0       AAPL  \n",
      "1       AAPL  \n",
      "2       AAPL  \n",
      "3       AAPL  \n",
      "4       AAPL  \n"
     ]
    }
   ],
   "source": [
    "import yfinance as yf\n",
    "import pandas as pd\n",
    "\n",
    "# List of top 20 tech stock tickers\n",
    "TICKERS = [\n",
    "    \"AAPL\", \"MSFT\", \"AMZN\", \"GOOGL\", \"META\", \"TSLA\", \"NVDA\", \"PYPL\", \"INTC\", \"ADBE\",\n",
    "    \"CSCO\", \"NFLX\", \"CRM\", \"AVGO\", \"QCOM\", \"IBM\", \"TXN\", \"UBER\", \"ORCL\", \"SAP\"\n",
    "]\n",
    "\n",
    "# Set data collection period (past 1 year)\n",
    "START_DATE = \"2024-02-01\"\n",
    "END_DATE = \"2025-02-01\"\n",
    "\n",
    "# Function to fetch stock data\n",
    "def fetch_stock_data(tickers):\n",
    "    data = yf.download(tickers, start=START_DATE, end=END_DATE, group_by=\"ticker\")\n",
    "\n",
    "    all_data = []\n",
    "\n",
    "    for ticker in tickers:\n",
    "        if ticker in data:\n",
    "            df = data[ticker].copy()\n",
    "            df[\"Ticker\"] = ticker  # Add ticker column\n",
    "            df.reset_index(inplace=True)  # Move Date from index to column\n",
    "            all_data.append(df)\n",
    "\n",
    "    # Combine all stocks into a single DataFrame\n",
    "    full_data = pd.concat(all_data, ignore_index=True)\n",
    "\n",
    "    return full_data\n",
    "\n",
    "# Fetch the data\n",
    "stock_data = fetch_stock_data(TICKERS)\n",
    "\n",
    "# Save as CSV\n",
    "stock_data.to_csv(\"tech_stocks.csv\", index=False)\n",
    "print(\"✅ Data saved as tech_stocks.csv\")\n",
    "\n",
    "# Display sample data\n",
    "print(stock_data.head())\n"
   ]
  },
  {
   "cell_type": "code",
   "execution_count": null,
   "metadata": {},
   "outputs": [],
   "source": []
  }
 ],
 "metadata": {
  "kernelspec": {
   "display_name": "stock",
   "language": "python",
   "name": "python3"
  },
  "language_info": {
   "codemirror_mode": {
    "name": "ipython",
    "version": 3
   },
   "file_extension": ".py",
   "mimetype": "text/x-python",
   "name": "python",
   "nbconvert_exporter": "python",
   "pygments_lexer": "ipython3",
   "version": "3.12.3"
  }
 },
 "nbformat": 4,
 "nbformat_minor": 2
}
